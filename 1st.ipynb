{
 "cells": [
  {
   "cell_type": "markdown",
   "metadata": {
    "slideshow": {
     "slide_type": "slide"
    }
   },
   "source": [
    "# Basic NLP with Python and NLTK\n",
    "\n",
    "- Bruni Francesco (@brunifrancesco)\n",
    "- This notebook @ https://github.com/brunifrancesco/nltk_base.git"
   ]
  },
  {
   "cell_type": "markdown",
   "metadata": {
    "slideshow": {
     "slide_type": "slide"
    }
   },
   "source": [
    "# Python\n",
    "\n",
    "- Programming language\n",
    "- Multi-pradigm\n",
    "- Easy to learn\n",
    "- Suitable for multiple needs\n",
    "- Multiple implementations, a ton of useful libraries"
   ]
  },
  {
   "cell_type": "markdown",
   "metadata": {
    "slideshow": {
     "slide_type": "subslide"
    }
   },
   "source": [
    "## Few Python data structures"
   ]
  },
  {
   "cell_type": "code",
   "execution_count": 32,
   "metadata": {
    "collapsed": false,
    "slideshow": {
     "slide_type": "fragment"
    }
   },
   "outputs": [
    {
     "name": "stdout",
     "output_type": "stream",
     "text": [
      "dict_values(['Pulp fiction', 'Python'])\n",
      "2\n",
      "['1', '2', '3', 4]\n",
      "<class 'generator'>\n",
      "<class 'list'>\n",
      "<class 'tuple'>\n"
     ]
    }
   ],
   "source": [
    "import random\n",
    "a_number = 1\n",
    "a_string = \"Python rocks!\"\n",
    "a_list = [\"1\", \"2\", \"3\"]\n",
    "a_dict = {\"film\":\"Pulp fiction\", \"francesco\": \"Python\"}\n",
    "print(a_dict.values())\n",
    "a_dict_of_list = {\"key\":[\"Carlito's way\",\"The godfather\"], \"francesco\":1}\n",
    "print(len(a_dict_of_list[\"key\"]))\n",
    "a_tuple = (\"Goodfellas\", \"Kill Bill\",)\n",
    "a_list.append(4)\n",
    "print(a_list)\n",
    "a_set = set((\"Inglourious Basterds\", \"The Good, the Bad, the Ugly\"))\n",
    "another_list = [element^2 for element in range(0, 10)]\n",
    "assert another_list == list(map(lambda item: item^2, range(0,10)))\n",
    "a_generator = (element**2 for element in range(0, 10))\n",
    "print(type(a_generator))\n",
    "print(type(another_list))\n",
    "print(type(a_tuple))"
   ]
  },
  {
   "cell_type": "markdown",
   "metadata": {
    "slideshow": {
     "slide_type": "subslide"
    }
   },
   "source": [
    "## Creating functions"
   ]
  },
  {
   "cell_type": "code",
   "execution_count": 43,
   "metadata": {
    "collapsed": false,
    "slideshow": {
     "slide_type": "fragment"
    }
   },
   "outputs": [
    {
     "name": "stdout",
     "output_type": "stream",
     "text": [
      "[2, 5, 7]\n"
     ]
    }
   ],
   "source": [
    "def super_function(number):\n",
    "    return number * 2 \n",
    "\n",
    "d = [\n",
    "    [1,2,3],\n",
    "    [1,3,4]\n",
    "]\n",
    "\n",
    "print(list(map(lambda item: sum(item), zip(d[0], d[1]))))\n",
    "\n",
    "def factorial(n):\n",
    "    if n == 0: return 1\n",
    "    else: return n*factorial(n-1)\n",
    "\n",
    "double = lambda item: item * 2\n",
    "predicate = lambda item: item > 3\n",
    "\n",
    "assert super_function(3) == 6\n",
    "assert factorial(3) == 6\n",
    "assert double(3) == 6\n",
    "assert list(filter(predicate, [1,2,5,3])) == [5]"
   ]
  },
  {
   "cell_type": "markdown",
   "metadata": {
    "slideshow": {
     "slide_type": "subslide"
    }
   },
   "source": [
    "## And much more..\n",
    "\n",
    "- Object oriented paradigm --> classes, metaclasses etc. etc.\n",
    "- Functional programming paradigm --> partials, closures, high order functions etc. etc.\n",
    "- Scripting paradigm --> shell control, os related functions etc. etc.\n",
    "- Async ops support --> asyncio\n",
    "\n"
   ]
  },
  {
   "cell_type": "markdown",
   "metadata": {
    "slideshow": {
     "slide_type": "subslide"
    }
   },
   "source": [
    "## Reading files"
   ]
  },
  {
   "cell_type": "code",
   "execution_count": 74,
   "metadata": {
    "collapsed": false,
    "slideshow": {
     "slide_type": "fragment"
    }
   },
   "outputs": [
    {
     "name": "stdout",
     "output_type": "stream",
     "text": [
      "Pulp fiction\n",
      " Carlito's way\n",
      "Goodfellas\n",
      "Kill Bill\n",
      "The godfather\n"
     ]
    }
   ],
   "source": [
    "with open(\"file\", \"r\") as input:\n",
    "    data = input.read()\n",
    "\n",
    "import csv\n",
    "def read_csv():\n",
    "    with open('data.csv', 'r') as francesco:\n",
    "        data = csv.reader(francesco, delimiter=';')\n",
    "        for element in data:\n",
    "            print(element[1])\n",
    "read_csv()"
   ]
  },
  {
   "cell_type": "markdown",
   "metadata": {
    "slideshow": {
     "slide_type": "subslide"
    }
   },
   "source": [
    "## Make data talk"
   ]
  },
  {
   "cell_type": "code",
   "execution_count": 56,
   "metadata": {
    "collapsed": false,
    "slideshow": {
     "slide_type": "fragment"
    }
   },
   "outputs": [
    {
     "name": "stdout",
     "output_type": "stream",
     "text": [
      "Data lenght: 6147\n",
      "Chunks numbers: 947\n",
      "Unique chunks: 532\n",
      "Avg lenght of chunks: 5.4730728616684265\n",
      "Std dev lenght of chunks: 3.4316471362237766\n",
      "Frequency distribution: [('M5s', 6), ('Parlamento', 6), ('al', 9), ('ha', 9), ('è', 9), ('della', 10), ('non', 10), ('un', 10), ('legge', 11), ('alla', 11), ('le', 12), ('per', 12), ('una', 13), ('del', 14), ('e', 15), ('in', 16), ('-', 17), ('che', 18), ('la', 19), ('a', 20), ('il', 26), ('di', 31)]\n"
     ]
    }
   ],
   "source": [
    "from collections import Counter\n",
    "import statistics\n",
    "\n",
    "splitted_chunks = data.split()\n",
    "print(\"Data lenght: %s\" %len(data))\n",
    "print(\"Chunks numbers: %s\" %len(splitted_chunks))\n",
    "print(\"Unique chunks: %s\" %len(set(splitted_chunks)))\n",
    "print(\"Avg lenght of chunks: %s\" %statistics.mean(map(len, splitted_chunks)))\n",
    "print(\"Std dev lenght of chunks: %s\" %statistics.pstdev(map(len, splitted_chunks)))\n",
    "print(\"Frequency distribution: %s\" %sorted(filter(lambda item: item[1] > 5, Counter(splitted_chunks).items()), key=lambda item: item[1]))"
   ]
  },
  {
   "cell_type": "markdown",
   "metadata": {
    "slideshow": {
     "slide_type": "slide"
    }
   },
   "source": [
    "# NLTK\n",
    "\n",
    "- tokenization\n",
    "- stemming\n",
    "- tagging \n",
    "- parsing\n",
    "- semantic reasoning\n",
    "- classification"
   ]
  },
  {
   "cell_type": "markdown",
   "metadata": {
    "slideshow": {
     "slide_type": "subslide"
    }
   },
   "source": [
    "## Tokenizing"
   ]
  },
  {
   "cell_type": "code",
   "execution_count": 60,
   "metadata": {
    "collapsed": false,
    "slideshow": {
     "slide_type": "fragment"
    }
   },
   "outputs": [
    {
     "name": "stdout",
     "output_type": "stream",
     "text": [
      "[':', 'This', 'is', 'waaaaayyyy', 'too', 'much', 'for', 'you', '!', '!', '!']\n"
     ]
    }
   ],
   "source": [
    "from nltk import word_tokenize\n",
    "tokens = word_tokenize(data)\n",
    "from nltk.tokenize import TweetTokenizer\n",
    "tokenizer = TweetTokenizer(strip_handles=True)\n",
    "s1 = '@remy: This is waaaaayyyy too much for you!!!!!!'\n",
    "tw_tokens = tokenizer.tokenize(s1)\n",
    "print(tw_tokens)"
   ]
  },
  {
   "cell_type": "markdown",
   "metadata": {
    "slideshow": {
     "slide_type": "subslide"
    }
   },
   "source": [
    "## Frequency distribution"
   ]
  },
  {
   "cell_type": "code",
   "execution_count": 61,
   "metadata": {
    "collapsed": false,
    "slideshow": {
     "slide_type": "fragment"
    }
   },
   "outputs": [
    {
     "name": "stdout",
     "output_type": "stream",
     "text": [
      "*** Introductory Examples for the NLTK Book ***\n",
      "Loading text1, ..., text9 and sent1, ..., sent9\n",
      "Type the name of the text or sentence to view it.\n",
      "Type: 'texts()' or 'sents()' to list the materials.\n",
      "text1: Moby Dick by Herman Melville 1851\n",
      "text2: Sense and Sensibility by Jane Austen 1811\n",
      "text3: The Book of Genesis\n",
      "text4: Inaugural Address Corpus\n",
      "text5: Chat Corpus\n",
      "text6: Monty Python and the Holy Grail\n",
      "text7: Wall Street Journal\n",
      "text8: Personals Corpus\n",
      "text9: The Man Who Was Thursday by G . K . Chesterton 1908\n"
     ]
    },
    {
     "data": {
      "image/png": "[encoded data removed]",
      "text/plain": [
       "<matplotlib.figure.Figure at 0x1064740f0>"
      ]
     },
     "metadata": {},
     "output_type": "display_data"
    },
    {
     "data": {
      "image/png": "[encoded data removed]",
      "text/plain": [
       "<matplotlib.figure.Figure at 0x106474f60>"
      ]
     },
     "metadata": {},
     "output_type": "display_data"
    },
    {
     "name": "stdout",
     "output_type": "stream",
     "text": [
      "Max frequency key: di\n",
      "Occurrencies of 'Parlamento': 6\n",
      "Frequency of 'Parlamento': 0.006335797254487857\n"
     ]
    }
   ],
   "source": [
    "from nltk.book import FreqDist\n",
    "fdist1 = FreqDist(splitted_chunks)\n",
    "most_common = fdist1.most_common(50)\n",
    "fdist1.plot(50, cumulative=True)\n",
    "fdist1.plot(10)\n",
    "print(\"Max frequency key: %s\" %fdist1.max())\n",
    "print(\"Occurrencies of 'Parlamento': %s\" %fdist1[\"Parlamento\"])\n",
    "print(\"Frequency of 'Parlamento': %s\"%fdist1.freq('Parlamento'))"
   ]
  },
  {
   "cell_type": "markdown",
   "metadata": {
    "slideshow": {
     "slide_type": "subslide"
    }
   },
   "source": [
    "## Cleaning data"
   ]
  },
  {
   "cell_type": "code",
   "execution_count": 119,
   "metadata": {
    "collapsed": false,
    "slideshow": {
     "slide_type": "fragment"
    }
   },
   "outputs": [
    {
     "name": "stdout",
     "output_type": "stream",
     "text": [
      "Chunks lenght 947\n",
      "Cleaned chunks (without stopwords) lenght: 587\n",
      "Cleaned chunks (without punctuation and stopwords) lenght: 569\n"
     ]
    }
   ],
   "source": [
    "from nltk.corpus import stopwords\n",
    "\n",
    "def remove_stopword(word):\n",
    "    return word not in words\n",
    "\n",
    "import string\n",
    "words = stopwords.words('italian')\n",
    "#words.append(\"legge\")\n",
    "lowered_chunks = list(map(lambda item: item.lower(), splitted_chunks))\n",
    "print(\"Chunks lenght %s\" %len(lowered_chunks))\n",
    "clean_chunks = list(filter(remove_stopword, splitted_chunks))\n",
    "print(\"Cleaned chunks (without stopwords) lenght: %s\" %len(clean_chunks))\n",
    "clean_chunks = list(filter(lambda chunk: chunk not in string.punctuation, clean_chunks))\n",
    "print(\"Cleaned chunks (without punctuation and stopwords) lenght: %s\" %len(clean_chunks))\n",
    "\n",
    "from nltk.book import FreqDist\n",
    "fdist1 = FreqDist(clean_chunks)\n",
    "most_common = fdist1.most_common(50)"
   ]
  },
  {
   "cell_type": "markdown",
   "metadata": {
    "collapsed": true,
    "slideshow": {
     "slide_type": "subslide"
    }
   },
   "source": [
    "## Stemming"
   ]
  },
  {
   "cell_type": "code",
   "execution_count": 120,
   "metadata": {
    "collapsed": false,
    "slideshow": {
     "slide_type": "fragment"
    }
   },
   "outputs": [
    {
     "name": "stdout",
     "output_type": "stream",
     "text": [
      "orden\n"
     ]
    },
    {
     "data": {
      "text/plain": [
       "'act'"
      ]
     },
     "execution_count": 120,
     "metadata": {},
     "output_type": "execute_result"
    }
   ],
   "source": [
    "from nltk.stem.porter import *\n",
    "from nltk.stem.snowball import *\n",
    "stemmer = PorterStemmer()\n",
    "\n",
    "stemmer.stem(\"activities\")\n",
    "\n",
    "\n",
    "available_langs = SnowballStemmer.languages\n",
    "\n",
    "sn_stemmer = SnowballStemmer(\"spanish\", ignore_stopwords=True)\n",
    "print(sn_stemmer.stem(\"ordenador\"))\n",
    "\n",
    "from nltk.stem.lancaster import *\n",
    "LancasterStemmer().stem(\"activities\")"
   ]
  },
  {
   "cell_type": "markdown",
   "metadata": {
    "slideshow": {
     "slide_type": "subslide"
    }
   },
   "source": [
    "## And much more..\n",
    "\n",
    "- Ngrams finder\n",
    "- Classifying data"
   ]
  },
  {
   "cell_type": "markdown",
   "metadata": {
    "slideshow": {
     "slide_type": "subslide"
    }
   },
   "source": [
    "## Custom ngrams finder"
   ]
  },
  {
   "cell_type": "code",
   "execution_count": 121,
   "metadata": {
    "collapsed": true,
    "slideshow": {
     "slide_type": "fragment"
    }
   },
   "outputs": [],
   "source": [
    "def find_and_analyze_ngrams(tagged_sent):\n",
    "    chunker = RegexpParser(CHUNK_RULE)\n",
    "    tree = chunker.parse(tagged_sent)\n",
    "    ngrams = []\n",
    "    for item in self.__leaves(tree):\n",
    "        if not item == tagged_sent:\n",
    "            probable_ngram = ' '.join(self.__stemmer.stem(\n",
    "                word.lower()) for (word, pos) in item\n",
    "            )\n",
    "            if self.__evaluate_polarity_ngram(probable_ngram):\n",
    "                ngrams.append(probable_ngram)\n",
    "    return ngrams"
   ]
  },
  {
   "cell_type": "markdown",
   "metadata": {},
   "source": [
    "## Classifying data"
   ]
  },
  {
   "cell_type": "code",
   "execution_count": 122,
   "metadata": {
    "collapsed": true
   },
   "outputs": [],
   "source": [
    "def __get_elements_for_classification(self, lfeats, train_number, classifying=True):\n",
    "    train_feats = []\n",
    "    test_feats = []\n",
    "    for label, feats in lfeats.iteritems():\n",
    "        if classifying:\n",
    "            train_feats.extend([(feat, label) for feat in feats])\n",
    "        else:\n",
    "            cutoff = train_number * len(feats)/10\n",
    "            train_feats.extend([(feat, label) for feat in feats[:cutoff]])\n",
    "            test_feats.extend([(feat, label) for feat in feats[cutoff:]])\n",
    "\n",
    "    nb_classifier = NaiveBayesClassifier.train(train_feats)\n",
    "    return train_feats, test_feats, nb_classifier"
   ]
  },
  {
   "cell_type": "markdown",
   "metadata": {
    "slideshow": {
     "slide_type": "subslide"
    }
   },
   "source": [
    "## Useful resources\n",
    "\n",
    "- https://github.com/nltk/nltk/tree/develop/nltk/test\n",
    "- http://www.nltk.org/\n",
    "- http://python.org"
   ]
  }
 ],
 "metadata": {
  "celltoolbar": "Slideshow",
  "kernelspec": {
   "display_name": "Python 3",
   "language": "python",
   "name": "python3"
  },
  "language_info": {
   "codemirror_mode": {
    "name": "ipython",
    "version": 3
   },
   "file_extension": ".py",
   "mimetype": "text/x-python",
   "name": "python",
   "nbconvert_exporter": "python",
   "pygments_lexer": "ipython3",
   "version": "3.5.1"
  }
 },
 "nbformat": 4,
 "nbformat_minor": 1
}
